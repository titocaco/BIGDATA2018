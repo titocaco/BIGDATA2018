{
 "cells": [
  {
   "cell_type": "markdown",
   "metadata": {},
   "source": [
    "# Orthogonal Matching Pursuit (OMP)\n",
    "\n",
    "## 3rd Attempt - Parallelize the Signals"
   ]
  },
  {
   "cell_type": "markdown",
   "metadata": {},
   "source": [
    "### Imports"
   ]
  },
  {
   "cell_type": "code",
   "execution_count": 12,
   "metadata": {},
   "outputs": [],
   "source": [
    "# Preparing the Spark Environment\n",
    "from pyspark.sql import SparkSession\n",
    "from pyspark import SparkContext\n",
    "sc = SparkContext.getOrCreate()\n",
    "spark = SparkSession(sc)\n",
    "\n",
    "# Mllib items\n",
    "from pyspark.mllib.linalg import Matrices\n",
    "from pyspark.mllib.linalg.distributed import BlockMatrix\n",
    "from pyspark.mllib.regression import *\n",
    "\n",
    "# System, Numpy and WAV reading\n",
    "import os\n",
    "from scipy.io import wavfile\n",
    "import numpy as np\n",
    "\n",
    "# Plots\n",
    "import matplotlib.pyplot as plt\n",
    "import matplotlib as mpl\n",
    "mpl.rcParams['savefig.dpi'] = 80\n",
    "mpl.rcParams['figure.dpi'] = 80\n",
    "mpl.rcParams['figure.figsize'] = (16,9)\n",
    "\n",
    "# Normalization and Metrics\n",
    "from sklearn.preprocessing import normalize\n",
    "from sklearn.metrics import mean_squared_error"
   ]
  },
  {
   "cell_type": "markdown",
   "metadata": {},
   "source": [
    "### Creating the Dictionary (matrix)"
   ]
  },
  {
   "cell_type": "code",
   "execution_count": 13,
   "metadata": {},
   "outputs": [],
   "source": [
    "# Setting the directories and Listing files\n",
    "\n",
    "violaoWaveDir = 'audio/violao/used/'\n",
    "violaoWaveList = sorted(os.listdir(violaoWaveDir))\n",
    "\n",
    "pianoWaveDir = 'audio/piano/used/'\n",
    "pianoWaveList = sorted(os.listdir(pianoWaveDir))"
   ]
  },
  {
   "cell_type": "code",
   "execution_count": 14,
   "metadata": {},
   "outputs": [],
   "source": [
    "# Importing WAV files\n",
    "\n",
    "violaoDict = []\n",
    "for audioFile in violaoWaveList:\n",
    "    violaoDict.append(wavfile.read(violaoWaveDir + audioFile)[1])\n",
    "    \n",
    "pianoDict = []\n",
    "for audioFile in pianoWaveList:\n",
    "    pianoDict.append(wavfile.read(pianoWaveDir + audioFile)[1])"
   ]
  },
  {
   "cell_type": "code",
   "execution_count": 15,
   "metadata": {},
   "outputs": [
    {
     "data": {
      "text/plain": [
       "(20000, 4410)"
      ]
     },
     "execution_count": 15,
     "metadata": {},
     "output_type": "execute_result"
    }
   ],
   "source": [
    "# Creating the basis for the Dictionary\n",
    "\n",
    "Dict = []\n",
    "Dict.extend(violaoDict)\n",
    "Dict.extend(pianoDict)\n",
    "\n",
    "Dict = np.asarray(Dict)\n",
    "Dict.shape"
   ]
  },
  {
   "cell_type": "code",
   "execution_count": 16,
   "metadata": {},
   "outputs": [],
   "source": [
    "# Function to remove the null signals\n",
    "\n",
    "def clearSilence (signals, threshold=0.1):    \n",
    "    s = []\n",
    "    for i in range(signals.shape[0]):\n",
    "        if any(elem > threshold for elem in signals[i]):\n",
    "            s.append(signals[i])\n",
    "    s = np.asarray(s)\n",
    "    \n",
    "    return s"
   ]
  },
  {
   "cell_type": "code",
   "execution_count": 17,
   "metadata": {},
   "outputs": [],
   "source": [
    "# Creating the Dictionary (D) with \"clean\" signals only\n",
    "\n",
    "D = np.transpose(clearSilence(Dict))"
   ]
  },
  {
   "cell_type": "markdown",
   "metadata": {},
   "source": [
    "### Preparing the Test Data"
   ]
  },
  {
   "cell_type": "code",
   "execution_count": 18,
   "metadata": {},
   "outputs": [],
   "source": [
    "# Setting the directories and listing files\n",
    "\n",
    "testWaveDir = 'audio/TEST/'\n",
    "testWaveList = sorted(os.listdir(testWaveDir))"
   ]
  },
  {
   "cell_type": "code",
   "execution_count": 19,
   "metadata": {},
   "outputs": [],
   "source": [
    "# Importing WAV files\n",
    "\n",
    "testData = []\n",
    "for audioFile in testWaveList:\n",
    "    testData.append(wavfile.read(testWaveDir + audioFile)[1])"
   ]
  },
  {
   "cell_type": "code",
   "execution_count": 20,
   "metadata": {},
   "outputs": [],
   "source": [
    "# Normalizing all data\n",
    "\n",
    "testData = normalize(testData, axis=1, norm='l2')\n",
    "D = normalize(D, axis=0, norm='l2')"
   ]
  },
  {
   "cell_type": "markdown",
   "metadata": {},
   "source": [
    "### The OMP function"
   ]
  },
  {
   "cell_type": "code",
   "execution_count": 26,
   "metadata": {},
   "outputs": [],
   "source": [
    "# OMP function\n",
    "\n",
    "def omp(D,s,k):\n",
    "    \"\"\"\n",
    "    Orthogonal Matching Pursuit (OMP)\n",
    "        \n",
    "    Inputs\n",
    "        D: dictionary (matrix)\n",
    "        s: signal\n",
    "        k: sparsity level\n",
    "        \n",
    "    Output\n",
    "        x: coeff vector for sparse representation\n",
    "    \"\"\"\n",
    "    \n",
    "    [l, c] = D.shape\n",
    "    \n",
    "    x = np.zeros([c, 1]) # coefficient (output)\n",
    "    r = s # residual of s\n",
    "    omega = np.zeros([k, 1]) # selected support\n",
    "    D_omega = np.zeros([l, 1]) # correspondng columns of D\n",
    "    \n",
    "    for cnt in range(k): # choose k atoms\n",
    "        #print(\"Iteration: \", cnt)\n",
    "        x_tmp = np.zeros([c, 1])\n",
    "        inds = np.setdiff1d(np.arange(0,c-1), omega)\n",
    "        \n",
    "        for i in inds:\n",
    "            t = np.transpose(D[:, i])\n",
    "            n = np.linalg.norm(D[:, i])\n",
    "            x_tmp[i] = np.matmul(t,r) / n\n",
    "        \n",
    "        ichosen = np.argmax(abs(x_tmp))\n",
    "        omega[cnt] = ichosen\n",
    "        D_omega = np.column_stack([D_omega, D[:, ichosen]])\n",
    "        if (cnt == 0):\n",
    "            D_omega = np.delete(D_omega, 0, 1)\n",
    "        x_ls = np.linalg.lstsq(D_omega, s, rcond=None)[0]\n",
    "        r = s - np.matmul(D_omega, x_ls)\n",
    "    \n",
    "    for a in range(k):\n",
    "        x[int(omega[a])] = x_ls[a]\n",
    "\n",
    "    return x"
   ]
  },
  {
   "cell_type": "markdown",
   "metadata": {},
   "source": [
    "### Tests"
   ]
  },
  {
   "cell_type": "markdown",
   "metadata": {},
   "source": [
    "#### Non-Parallel"
   ]
  },
  {
   "cell_type": "code",
   "execution_count": null,
   "metadata": {},
   "outputs": [],
   "source": [
    "%%time\n",
    "RES_SER = [0] * testData.shape[0]\n",
    "for i in range(testData.shape[0]):\n",
    "    RES_SER[i] = omp(D[:,:], testData[i], 20)"
   ]
  },
  {
   "cell_type": "markdown",
   "metadata": {},
   "source": [
    "#### Parallel"
   ]
  },
  {
   "cell_type": "code",
   "execution_count": null,
   "metadata": {},
   "outputs": [],
   "source": [
    "# Parallelize the data\n",
    "\n",
    "rdd_data = sc.parallelize(list(enumerate(testData)), 32)"
   ]
  },
  {
   "cell_type": "code",
   "execution_count": null,
   "metadata": {},
   "outputs": [],
   "source": [
    "%%time\n",
    "RES = (\n",
    "    rdd_data\n",
    "    .map(lambda x: omp(D[:,:], x[1], 20))\n",
    "    .collect()\n",
    ")"
   ]
  },
  {
   "cell_type": "code",
   "execution_count": null,
   "metadata": {},
   "outputs": [],
   "source": []
  }
 ],
 "metadata": {
  "kernelspec": {
   "display_name": "Python 3",
   "language": "python",
   "name": "python3"
  },
  "language_info": {
   "codemirror_mode": {
    "name": "ipython",
    "version": 3
   },
   "file_extension": ".py",
   "mimetype": "text/x-python",
   "name": "python",
   "nbconvert_exporter": "python",
   "pygments_lexer": "ipython3",
   "version": "3.6.5"
  }
 },
 "nbformat": 4,
 "nbformat_minor": 2
}
