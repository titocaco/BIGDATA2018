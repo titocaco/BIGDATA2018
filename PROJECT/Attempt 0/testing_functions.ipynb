{
 "cells": [
  {
   "cell_type": "markdown",
   "metadata": {},
   "source": [
    "**Testing Notebook**\n",
    "\n",
    "*This notebook have testing purposes ONLY!*"
   ]
  },
  {
   "cell_type": "markdown",
   "metadata": {},
   "source": [
    "Create the Spark object that shall be used for the tests."
   ]
  },
  {
   "cell_type": "code",
   "execution_count": 1,
   "metadata": {},
   "outputs": [],
   "source": [
    "from pyspark import SparkContext\n",
    "sc = SparkContext.getOrCreate()"
   ]
  },
  {
   "cell_type": "markdown",
   "metadata": {},
   "source": [
    "Defines the function that converts a matrix from a list of rows format into a list of coordinates (using Tuples) and the element value itself."
   ]
  },
  {
   "cell_type": "code",
   "execution_count": 2,
   "metadata": {},
   "outputs": [],
   "source": [
    "def matCoordNotation (M):\n",
    "    i, j = (len(M), len(M[0]))\n",
    "    \n",
    "    N = []\n",
    "    for y in range(i):\n",
    "        for x in range(j):\n",
    "            N.append([(y,x), M[y][x]])\n",
    "    \n",
    "    return N"
   ]
  },
  {
   "cell_type": "markdown",
   "metadata": {},
   "source": [
    "Defines the function that converts a matrix from a list of lists of coordinates (using Tuples) and the element value itself into a list of rows."
   ]
  },
  {
   "cell_type": "code",
   "execution_count": 3,
   "metadata": {},
   "outputs": [],
   "source": [
    "from operator import itemgetter\n",
    "\n",
    "def matListNotation (M):\n",
    "    maxValues = max(M,key=itemgetter(0))\n",
    "    \n",
    "    i = maxValues[0][0] + 1\n",
    "    j = maxValues[0][1] + 1\n",
    "    \n",
    "    N = []\n",
    "    for k in range(i):\n",
    "        Z = [0] * j\n",
    "        N.append(Z)\n",
    "        \n",
    "    for x in range(i*j):\n",
    "        lin = M[x][0][0]\n",
    "        col = M[x][0][1]\n",
    "        N[lin][col] = M[x][1]\n",
    "        \n",
    "    return N"
   ]
  },
  {
   "cell_type": "markdown",
   "metadata": {},
   "source": [
    "X and Y matrices in a typical list of rows format."
   ]
  },
  {
   "cell_type": "code",
   "execution_count": 4,
   "metadata": {},
   "outputs": [],
   "source": [
    "from random import randrange\n",
    "\n",
    "def random_ints(num, lower=0, upper=9):\n",
    "    ints = []\n",
    "    for i in range(num):\n",
    "        ints.append(randrange(lower,upper+1))\n",
    "    return ints\n",
    "\n",
    "def randomList(Lines, Columns):\n",
    "    M = []\n",
    "    for i in range(Lines):\n",
    "            M.append(random_ints(Columns))\n",
    "            \n",
    "    return M"
   ]
  },
  {
   "cell_type": "code",
   "execution_count": 5,
   "metadata": {},
   "outputs": [],
   "source": [
    "def rectifyReduce (reduce_output):\n",
    "    M = []\n",
    "    M.extend(reduce_output)\n",
    "    rectified = []\n",
    "    for i in range(int(len(M) / 2)):\n",
    "        rectified.append([M[i], M[i+1]])\n",
    "        del M[:1]\n",
    "    \n",
    "    return rectified"
   ]
  },
  {
   "cell_type": "code",
   "execution_count": 6,
   "metadata": {},
   "outputs": [],
   "source": [
    "X = randomList(50,200)\n",
    "Y = randomList(200,50)"
   ]
  },
  {
   "cell_type": "markdown",
   "metadata": {},
   "source": [
    "X and Y matrices converted into coordinates notation"
   ]
  },
  {
   "cell_type": "code",
   "execution_count": 7,
   "metadata": {},
   "outputs": [],
   "source": [
    "X_coord = matCoordNotation(X)\n",
    "Y_coord = matCoordNotation(Y)"
   ]
  },
  {
   "cell_type": "markdown",
   "metadata": {},
   "source": [
    "Creation of the RDDs for both matrices."
   ]
  },
  {
   "cell_type": "code",
   "execution_count": 16,
   "metadata": {},
   "outputs": [],
   "source": [
    "rdd_x = sc.parallelize(X_coord, 1)\n",
    "rdd_y = sc.parallelize(Y_coord, 1)"
   ]
  },
  {
   "cell_type": "markdown",
   "metadata": {},
   "source": [
    "1. Applying **.cartesian()** function to add, side by side, all elements of rdd_y to rdd_x.\n",
    "\n",
    "2. Applying **.filter()** function to select only the correct elements to be used in the multiplication processes.\n",
    "\n",
    "3. Applying **.map()** function to effectively multiply each couple of filtered elements\n",
    "\n",
    "4. Applying **.reduceByKey()** function to sum all terms that have the same key, which is the coordinates of the matrix in this particular case.\n",
    "\n",
    "5. Applying **.sortByKey()** function to put the elements of the matrix in an ascending order.\n",
    "\n",
    "6. Applying **.collect()** to store the final matrix in a variable and converting it into a matrix that uses a typical list notation.\n",
    "\n",
    "Obs: **.sortByKey()** and **.collect()** should NOT be used in the final code, because it's very expensive to be processed."
   ]
  },
  {
   "cell_type": "code",
   "execution_count": 17,
   "metadata": {},
   "outputs": [
    {
     "name": "stdout",
     "output_type": "stream",
     "text": [
      "CPU times: user 9 ms, sys: 2.52 ms, total: 11.5 ms\n",
      "Wall time: 14.3 s\n"
     ]
    }
   ],
   "source": [
    "%%time\n",
    "MAT = (\n",
    "    rdd_x\n",
    "        .cartesian(rdd_y)\n",
    "        .filter(lambda x: x[0][0][1] == x[1][0][0])\n",
    "        .map(lambda x: [(x[0][0][0], x[1][0][1]), x[0][1] * x[1][1]])\n",
    "        .reduceByKey(lambda accum, n: accum + n)\n",
    "        #.sortByKey()\n",
    "        .collect()\n",
    ")\n",
    "        \n",
    "MAT = matListNotation(MAT)\n",
    "#print(MAT)"
   ]
  },
  {
   "cell_type": "code",
   "execution_count": 18,
   "metadata": {},
   "outputs": [
    {
     "name": "stdout",
     "output_type": "stream",
     "text": [
      "CPU times: user 5.37 ms, sys: 4.81 ms, total: 10.2 ms\n",
      "Wall time: 14.5 s\n"
     ]
    }
   ],
   "source": [
    "%%time\n",
    "MAT = (\n",
    "    rdd_x\n",
    "        .cartesian(rdd_y)\n",
    "        .filter(lambda x: x[0][0][1] == x[1][0][0])\n",
    "        .map(lambda x: [(x[0][0][0], x[1][0][1]), x[0][1] * x[1][1]])\n",
    "        .reduceByKey(lambda accum, n: accum + n)\n",
    "        .reduce(lambda x, y: x+y)\n",
    ")\n",
    "\n",
    "#print(matListNotation(rectifyReduce(MAT)))"
   ]
  },
  {
   "cell_type": "markdown",
   "metadata": {},
   "source": [
    "Creating a new simple matrix, converting it into a coordinates notation and using it to create a RDD object."
   ]
  },
  {
   "cell_type": "code",
   "execution_count": 51,
   "metadata": {},
   "outputs": [],
   "source": [
    "A = randomList(2000, 2000)\n",
    "A_coord = matCoordNotation(A)\n",
    "rdd_a = sc.parallelize(A_coord, 32)"
   ]
  },
  {
   "cell_type": "markdown",
   "metadata": {},
   "source": [
    "Applying **.map()** to obtain the **Transpose** of the original matrix"
   ]
  },
  {
   "cell_type": "code",
   "execution_count": 50,
   "metadata": {},
   "outputs": [
    {
     "name": "stdout",
     "output_type": "stream",
     "text": [
      "CPU times: user 1.69 s, sys: 368 ms, total: 2.06 s\n",
      "Wall time: 48min 1s\n"
     ]
    }
   ],
   "source": [
    "%%time\n",
    "B_T = (\n",
    "    rdd_a\n",
    "        .map(lambda x: [(x[0][1], x[0][0]), x[1]])\n",
    "        .reduce(lambda x, y: x+y)\n",
    ")\n",
    "\n",
    "#print(matListNotation(rectifyReduce(B_T)))"
   ]
  }
 ],
 "metadata": {
  "kernelspec": {
   "display_name": "Python 3",
   "language": "python",
   "name": "python3"
  },
  "language_info": {
   "codemirror_mode": {
    "name": "ipython",
    "version": 3
   },
   "file_extension": ".py",
   "mimetype": "text/x-python",
   "name": "python",
   "nbconvert_exporter": "python",
   "pygments_lexer": "ipython3",
   "version": "3.6.5"
  }
 },
 "nbformat": 4,
 "nbformat_minor": 2
}
